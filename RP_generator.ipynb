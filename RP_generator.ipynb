{
 "cells": [
  {
   "cell_type": "markdown",
   "id": "abf92221-b655-4332-9225-329cc3f60ad5",
   "metadata": {},
   "source": [
    "# Disordered RP generator\n",
    "\n",
    "Script to generate (disordered) Ruddlesden Popper structure with any n-value. \n",
    "Multiple n-values will create a disordered Ruddlesden Popper structure.\n",
    "\n",
    "For example:\n",
    "- `rp_generator -n 5 6` will create 5 perovskite layers + rocksalt layer + 6 perovskite layers + rocksalt layer.\n",
    "- `rp_generator -n 3` will create the standard RP material A$_4$B$_3$X$_{10}$.\n",
    "\n",
    "Creates phase in a high-symmetry tetragonal structure.\n",
    "After creating this structure you will need to relax to find the equilibrium structure. \n",
    "Importantly, you must allow the atomic positions **and** cell volume to relax.\n",
    "You most likely also want to use the `rattle` option to break symmetry and allow for distortions to lower symmetry.\n",
    "\n",
    "Use with caution as this hasn't been thoroughly tested."
   ]
  },
  {
   "cell_type": "code",
   "execution_count": 32,
   "id": "3de213de",
   "metadata": {},
   "outputs": [],
   "source": [
    "import ase\n",
    "from ase import Atoms\n",
    "from ase import io\n",
    "import numpy as np"
   ]
  },
  {
   "cell_type": "code",
   "execution_count": 26,
   "id": "60958e0d",
   "metadata": {},
   "outputs": [],
   "source": [
    "def perovskite_atoms(A,B,X,cell_length):\n",
    "    \"\"\"Returns single perovskite layer\"\"\"\n",
    "    \n",
    "    return Atoms([A,B,X,X,X], \n",
    "           scaled_positions=[(0.5,0.5,0.5),(0,0,0),(0.5,0,0),(0,0,0.5),(0,0.5,0)],\n",
    "           cell=[cell_length,cell_length,cell_length,90,90,90])\n",
    "\n",
    "def rocksalt_atoms(A,X,cell_length):\n",
    "    \"\"\"Returns rocksalt layer\"\"\"\n",
    "    \n",
    "    return Atoms([A,X], \n",
    "           scaled_positions=[(0,0,0),(0.5,0.5,0)],\n",
    "           cell=[cell_length,cell_length,1,90,90,90])\n",
    "\n",
    "def save_structure(atoms_object,n_array,A,B,X):\n",
    "    \"\"\"Save structure as cif\"\"\"\n",
    "\n",
    "    ase.io.write('RP_{}_{}.cif'.format(''.join(map(str,n_array)),A+B+X), atoms_object)\n",
    "\n",
    "def create_mixed_rp(n_array,A='Ba',B='Zr',X='S',cell_length=5,rattle=False,save=True):\n",
    "    \"\"\"Returns (disordered) RP phase as an ASE atoms object.\n",
    "    \"\"\"\n",
    "\n",
    "    # if the number of n-values is odd then we must double the array to make even.\n",
    "    # This is to ensure that when pbc is applied\n",
    "    # the neighbouring perovskite slabs are correctly offset from one-another\n",
    "    if len(n_array) % 2 == 1:\n",
    "        n_array = np.concatenate((n_array,n_array))\n",
    "\n",
    "    # we need to create structure and apply pbc before adding in the perovskite and rocksalt layers\n",
    "    total_length = np.sum(n_array)*1*cell_length + len(n_array)*0.5*cell_length \n",
    "    rp_structure = Atoms(cell=[cell_length,cell_length,total_length,90,90,90],pbc=[True,True,True])\n",
    "\n",
    "    # create perovskite and rocksalt layer\n",
    "    perovskite_layer = perovskite_atoms(A,B,X,cell_length)\n",
    "    rocksalt_layer = rocksalt_atoms(A,X,cell_length)\n",
    "\n",
    "    # for each slab of perovskite\n",
    "    for number_of_layers in n_array:\n",
    "\n",
    "        # for each perovskite layer within the slab\n",
    "        for _ in range(number_of_layers):\n",
    "\n",
    "            # add a perovskite layer to the rp_structure\n",
    "            rp_structure += perovskite_layer\n",
    "            \n",
    "            # translate the perovskite and rocksalt layers along c-axis ready for next insertion\n",
    "            perovskite_layer.translate(np.dot([0,0,1],perovskite_layer.cell))\n",
    "            rocksalt_layer.translate(np.dot([0,0,1],perovskite_layer.cell))\n",
    "\n",
    "        # after creating perovksite slab, add a rocksalt layer\n",
    "        rp_structure += rocksalt_layer\n",
    "        \n",
    "        # translate the perovskite and rocksalt layers along c-axis ready for next insertion\n",
    "        # also translate the rocksalt and perovskite layers in the ab-plane\n",
    "        rocksalt_layer.translate(np.dot([0.5,0.5,0.5],perovskite_layer.cell))\n",
    "        perovskite_layer.translate(np.dot([0.5,0.5,0.5],perovskite_layer.cell))\n",
    "\n",
    "    if rattle:\n",
    "        rp_structure.rattle(stdev=0.02, seed=1)\n",
    "\n",
    "    if save:\n",
    "        save_structure(rp_structure,n_array,A,B,X)\n",
    "\n",
    "    return rp_structure"
   ]
  },
  {
   "cell_type": "code",
   "execution_count": 31,
   "id": "cbf36908-bf18-44d0-a704-51e9034e3b7a",
   "metadata": {},
   "outputs": [],
   "source": [
    "atoms = create_mixed_rp(np.array([1]),rattle=False)"
   ]
  }
 ],
 "metadata": {
  "kernelspec": {
   "display_name": "Python 3 (ipykernel)",
   "language": "python",
   "name": "python3"
  },
  "language_info": {
   "codemirror_mode": {
    "name": "ipython",
    "version": 3
   },
   "file_extension": ".py",
   "mimetype": "text/x-python",
   "name": "python",
   "nbconvert_exporter": "python",
   "pygments_lexer": "ipython3",
   "version": "3.12.1"
  }
 },
 "nbformat": 4,
 "nbformat_minor": 5
}
