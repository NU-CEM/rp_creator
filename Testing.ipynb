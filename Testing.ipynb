{
 "cells": [
  {
   "cell_type": "code",
   "execution_count": 1,
   "id": "3de213de",
   "metadata": {},
   "outputs": [],
   "source": [
    "import ase\n",
    "from ase import Atoms\n",
    "from ase.visualize import view\n",
    "import numpy as np"
   ]
  },
  {
   "cell_type": "code",
   "execution_count": 12,
   "id": "60958e0d",
   "metadata": {},
   "outputs": [],
   "source": [
    "def get_chemical_formula(A,B,X,n_array):\n",
    "    \n",
    "    x = str(np.sum(n_array+1))\n",
    "    y = str(np.sum(n_array))\n",
    "    z = str(np.sum(3*(n_array)+1))\n",
    "\n",
    "    return A+x+B+y+X+z\n",
    "\n",
    "def perovskite_layer(A,B,X):\n",
    "    return Atoms([A,B,X,X,X], \n",
    "           positions=[(0.5,0.5,0.5),(0,0,0),(0.5,0.5,0),(0.5,0,0.5),(0,0.5,0.5)])\n",
    "\n",
    "def rocksalt_layer(A,X):\n",
    "    return Atoms([A,X], \n",
    "           positions=[(0,0,0),(0.5,0.5,0)])\n",
    "\n",
    "def create_rp_structure(A,B,X,n_array,a,b, perovskite_spacing,rocksalt_spacing):\n",
    "    total_length = np.sum(n_array)*perovskite_spacing + len(n_array)*rocksalt_spacing\n",
    "    rp_structure = Atoms(cell=[a,b,total_length,101,101,90])\n",
    "\n",
    "    current_c_position = 0\n",
    "    for number_of_layers in n_array:\n",
    "        for layer_count in range(number_of_layers):\n",
    "            rp_structure += perovskite_layer(A,B,X).translate([0,0,current_c_position])\n",
    "            current_c_position += perovskite_spacing\n",
    "        rp_structure += rocksalt_layer(A,X).translate([0,current_c_position])\n",
    "        current_c_position += rocksalt_spacing\n",
    "        \n",
    "    return rp_structure\n",
    "\n",
    "def rattle_structure(Atoms):\n",
    "\n",
    "    return Atoms.rattle(stdev=0.02, seed=1)\n",
    "\n",
    "def save_structure(Atoms,n_array,A,B,X):\n",
    "\n",
    "    ase.io.write('RP_{}_{}.cif'.format(''.join(map(str,n_array)),A+B+X), Atoms)"
   ]
  },
  {
   "cell_type": "code",
   "execution_count": 3,
   "id": "80ce9478",
   "metadata": {},
   "outputs": [],
   "source": [
    "t = get_chemical_formula(\"Ba\",\"Zr\",\"S\",np.array([2,1]))"
   ]
  },
  {
   "cell_type": "code",
   "execution_count": 38,
   "id": "66c81d17",
   "metadata": {},
   "outputs": [],
   "source": [
    "perov = perovskite_layer(\"Ba\",\"Zr\",\"S\")\n",
    "view(perov, viewer='ngl')"
   ]
  },
  {
   "cell_type": "code",
   "execution_count": 4,
   "id": "cccbd628",
   "metadata": {},
   "outputs": [
    {
     "data": {
      "text/plain": [
       "'Ba5Zr3S11'"
      ]
     },
     "execution_count": 4,
     "metadata": {},
     "output_type": "execute_result"
    }
   ],
   "source": [
    "t"
   ]
  },
  {
   "cell_type": "code",
   "execution_count": 39,
   "id": "c42ec40c",
   "metadata": {},
   "outputs": [],
   "source": [
    "rs = rocksalt_layer(\"Ba\",\"S\")\n",
    "view(rs, viewer='ngl')"
   ]
  },
  {
   "cell_type": "code",
   "execution_count": 14,
   "id": "11d398d0",
   "metadata": {},
   "outputs": [
    {
     "ename": "TypeError",
     "evalue": "object of type 'NoneType' has no len()",
     "output_type": "error",
     "traceback": [
      "\u001b[0;31m---------------------------------------------------------------------------\u001b[0m",
      "\u001b[0;31mTypeError\u001b[0m                                 Traceback (most recent call last)",
      "Cell \u001b[0;32mIn[14], line 1\u001b[0m\n\u001b[0;32m----> 1\u001b[0m atoms \u001b[38;5;241m=\u001b[39m \u001b[43mcreate_rp_structure\u001b[49m\u001b[43m(\u001b[49m\u001b[38;5;124;43m'\u001b[39;49m\u001b[38;5;124;43mBa\u001b[39;49m\u001b[38;5;124;43m'\u001b[39;49m\u001b[43m,\u001b[49m\u001b[38;5;124;43m'\u001b[39;49m\u001b[38;5;124;43mZr\u001b[39;49m\u001b[38;5;124;43m'\u001b[39;49m\u001b[43m,\u001b[49m\u001b[38;5;124;43m'\u001b[39;49m\u001b[38;5;124;43mS\u001b[39;49m\u001b[38;5;124;43m'\u001b[39;49m\u001b[43m,\u001b[49m\u001b[43mnp\u001b[49m\u001b[38;5;241;43m.\u001b[39;49m\u001b[43marray\u001b[49m\u001b[43m(\u001b[49m\u001b[43m[\u001b[49m\u001b[38;5;241;43m2\u001b[39;49m\u001b[43m,\u001b[49m\u001b[38;5;241;43m1\u001b[39;49m\u001b[43m]\u001b[49m\u001b[43m)\u001b[49m\u001b[43m,\u001b[49m\u001b[38;5;241;43m3\u001b[39;49m\u001b[43m,\u001b[49m\u001b[38;5;241;43m3\u001b[39;49m\u001b[43m,\u001b[49m\u001b[38;5;241;43m3\u001b[39;49m\u001b[43m,\u001b[49m\u001b[38;5;241;43m2\u001b[39;49m\u001b[43m)\u001b[49m\n",
      "Cell \u001b[0;32mIn[12], line 24\u001b[0m, in \u001b[0;36mcreate_rp_structure\u001b[0;34m(A, B, X, n_array, a, b, perovskite_spacing, rocksalt_spacing)\u001b[0m\n\u001b[1;32m     22\u001b[0m \u001b[38;5;28;01mfor\u001b[39;00m number_of_layers \u001b[38;5;129;01min\u001b[39;00m n_array:\n\u001b[1;32m     23\u001b[0m     \u001b[38;5;28;01mfor\u001b[39;00m layer_count \u001b[38;5;129;01min\u001b[39;00m \u001b[38;5;28mrange\u001b[39m(number_of_layers):\n\u001b[0;32m---> 24\u001b[0m         \u001b[43mrp_structure\u001b[49m\u001b[43m \u001b[49m\u001b[38;5;241;43m+\u001b[39;49m\u001b[38;5;241;43m=\u001b[39;49m\u001b[43m \u001b[49m\u001b[43mperovskite_layer\u001b[49m\u001b[43m(\u001b[49m\u001b[43mA\u001b[49m\u001b[43m,\u001b[49m\u001b[43mB\u001b[49m\u001b[43m,\u001b[49m\u001b[43mX\u001b[49m\u001b[43m)\u001b[49m\u001b[38;5;241;43m.\u001b[39;49m\u001b[43mtranslate\u001b[49m\u001b[43m(\u001b[49m\u001b[43m[\u001b[49m\u001b[38;5;241;43m0\u001b[39;49m\u001b[43m,\u001b[49m\u001b[38;5;241;43m0\u001b[39;49m\u001b[43m,\u001b[49m\u001b[43mcurrent_c_position\u001b[49m\u001b[43m]\u001b[49m\u001b[43m)\u001b[49m\n\u001b[1;32m     25\u001b[0m         current_c_position \u001b[38;5;241m+\u001b[39m\u001b[38;5;241m=\u001b[39m perovskite_spacing\n\u001b[1;32m     26\u001b[0m     rp_structure \u001b[38;5;241m+\u001b[39m\u001b[38;5;241m=\u001b[39m rocksalt_layer(A,X)\u001b[38;5;241m.\u001b[39mtranslate([\u001b[38;5;241m0\u001b[39m,current_c_position])\n",
      "File \u001b[0;32m~/.local/lib/python3.11/site-packages/ase/atoms.py:1064\u001b[0m, in \u001b[0;36mAtoms.__iadd__\u001b[0;34m(self, other)\u001b[0m\n\u001b[1;32m   1063\u001b[0m \u001b[38;5;28;01mdef\u001b[39;00m \u001b[38;5;21m__iadd__\u001b[39m(\u001b[38;5;28mself\u001b[39m, other):\n\u001b[0;32m-> 1064\u001b[0m     \u001b[38;5;28;43mself\u001b[39;49m\u001b[38;5;241;43m.\u001b[39;49m\u001b[43mextend\u001b[49m\u001b[43m(\u001b[49m\u001b[43mother\u001b[49m\u001b[43m)\u001b[49m\n\u001b[1;32m   1065\u001b[0m     \u001b[38;5;28;01mreturn\u001b[39;00m \u001b[38;5;28mself\u001b[39m\n",
      "File \u001b[0;32m~/.local/lib/python3.11/site-packages/ase/atoms.py:1038\u001b[0m, in \u001b[0;36mAtoms.extend\u001b[0;34m(self, other)\u001b[0m\n\u001b[1;32m   1035\u001b[0m     other \u001b[38;5;241m=\u001b[39m \u001b[38;5;28mself\u001b[39m\u001b[38;5;241m.\u001b[39m\u001b[38;5;18m__class__\u001b[39m([other])\n\u001b[1;32m   1037\u001b[0m n1 \u001b[38;5;241m=\u001b[39m \u001b[38;5;28mlen\u001b[39m(\u001b[38;5;28mself\u001b[39m)\n\u001b[0;32m-> 1038\u001b[0m n2 \u001b[38;5;241m=\u001b[39m \u001b[38;5;28;43mlen\u001b[39;49m\u001b[43m(\u001b[49m\u001b[43mother\u001b[49m\u001b[43m)\u001b[49m\n\u001b[1;32m   1040\u001b[0m \u001b[38;5;28;01mfor\u001b[39;00m name, a1 \u001b[38;5;129;01min\u001b[39;00m \u001b[38;5;28mself\u001b[39m\u001b[38;5;241m.\u001b[39marrays\u001b[38;5;241m.\u001b[39mitems():\n\u001b[1;32m   1041\u001b[0m     a \u001b[38;5;241m=\u001b[39m np\u001b[38;5;241m.\u001b[39mzeros((n1 \u001b[38;5;241m+\u001b[39m n2,) \u001b[38;5;241m+\u001b[39m a1\u001b[38;5;241m.\u001b[39mshape[\u001b[38;5;241m1\u001b[39m:], a1\u001b[38;5;241m.\u001b[39mdtype)\n",
      "\u001b[0;31mTypeError\u001b[0m: object of type 'NoneType' has no len()"
     ]
    }
   ],
   "source": [
    "atoms = create_rp_structure('Ba','Zr','S',np.array([2,1]),3,3,3,2)"
   ]
  },
  {
   "cell_type": "code",
   "execution_count": 19,
   "id": "665504e3",
   "metadata": {},
   "outputs": [],
   "source": [
    "t=perovskite_layer('Ba','Zr','S')\n"
   ]
  },
  {
   "cell_type": "code",
   "execution_count": 22,
   "id": "3cdfb1fd",
   "metadata": {},
   "outputs": [],
   "source": [
    "t.translate([2,0,0])"
   ]
  },
  {
   "cell_type": "code",
   "execution_count": null,
   "id": "02edd32f",
   "metadata": {},
   "outputs": [],
   "source": []
  }
 ],
 "metadata": {
  "kernelspec": {
   "display_name": "Python 3 (ipykernel)",
   "language": "python",
   "name": "python3"
  },
  "language_info": {
   "codemirror_mode": {
    "name": "ipython",
    "version": 3
   },
   "file_extension": ".py",
   "mimetype": "text/x-python",
   "name": "python",
   "nbconvert_exporter": "python",
   "pygments_lexer": "ipython3",
   "version": "3.11.2"
  }
 },
 "nbformat": 4,
 "nbformat_minor": 5
}
