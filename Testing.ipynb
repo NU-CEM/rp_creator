{
 "cells": [
  {
   "cell_type": "code",
   "execution_count": 2,
   "id": "3de213de",
   "metadata": {},
   "outputs": [],
   "source": [
    "import ase\n",
    "from ase import Atoms\n",
    "from ase.visualize import view\n",
    "import numpy as np"
   ]
  },
  {
   "cell_type": "code",
   "execution_count": 77,
   "id": "60958e0d",
   "metadata": {},
   "outputs": [],
   "source": [
    "def get_chemical_formula(A,B,X,n_array):\n",
    "    \n",
    "    x = str(np.sum(n_array+1))\n",
    "    y = str(np.sum(n_array))\n",
    "    z = str(np.sum(3*(n_array)+1))\n",
    "\n",
    "    return A+x+B+y+X+z\n",
    "\n",
    "def perovskite_atoms(A,B,X,a,b,c,alpha,beta,gamma):\n",
    "    \n",
    "    return Atoms([A,B,X,X,X], \n",
    "           scaled_positions=[(0.5,0.5,0.5),(0,0,0),(0.5,0.5,0),(0.5,0,0.5),(0,0.5,0.5)],\n",
    "           cell=[a,b,c,alpha,beta,gamma])\n",
    "\n",
    "def rocksalt_atoms(A,X,a,b,c,alpha,beta,gamma):\n",
    "    \n",
    "    return Atoms([A,X], \n",
    "           scaled_positions=[(0,0,0),(0.5,0.5,0)],\n",
    "           cell=[a,b,c,alpha,beta,gamma])\n",
    "\n",
    "def create_rp_structure(A,B,X,n_array,a,b,perovskite_spacing,rocksalt_spacing):\n",
    "\n",
    "    # think about if n=1\n",
    "    total_length = np.sum(n_array-1)*perovskite_spacing + 2*len(n_array)*rocksalt_spacing \n",
    "    rp_structure = Atoms(cell=[a,b,total_length,101,101,90],pbc=[True,True,True])\n",
    "    #rp_structure = Atoms()\n",
    "\n",
    "    perovskite_layer = perovskite_atoms(A,B,X,a,b,perovskite_spacing,101,101,90)\n",
    "    rocksalt_layer = rocksalt_atoms(A,X,a,b,rocksalt_spacing,101,101,90)\n",
    "\n",
    "    for number_of_layers in n_array:\n",
    "        \n",
    "        if number_of_layers > 1:\n",
    "            for _ in range(number_of_layers-1):\n",
    "                rp_structure += perovskite_layer\n",
    "                perovskite_layer.translate(np.dot([0,0,perovskite_spacing],perovskite_layer.cell))\n",
    "                rocksalt_layer.translate(np.dot([0,0,perovskite_spacing],perovskite_layer.cell))\n",
    "                \n",
    "        rp_structure += perovskite_layer\n",
    "        perovskite_layer.translate(np.dot([0,0,rocksalt_spacing],perovskite_layer.cell))\n",
    "        rocksalt_layer.translate(np.dot([0,0,rocksalt_spacing],perovskite_layer.cell))\n",
    "        rp_structure += rocksalt_layer\n",
    "        perovskite_layer.translate(np.dot([0,0,rocksalt_spacing],perovskite_layer.cell))\n",
    "        rocksalt_layer.translate(np.dot([0,0,rocksalt_spacing],perovskite_layer.cell))\n",
    "        \n",
    "\n",
    "    return rp_structure\n",
    "\n",
    "def rattle_structure(atoms_object):\n",
    "\n",
    "    return atoms_object.rattle(stdev=0.02, seed=1)\n",
    "\n",
    "def save_structure(atoms_object,n_array,A,B,X):\n",
    "\n",
    "    ase.io.write('RP_{}_{}.cif'.format(''.join(map(str,n_array)),A+B+X), atoms_object)"
   ]
  },
  {
   "cell_type": "code",
   "execution_count": 78,
   "id": "11d398d0",
   "metadata": {},
   "outputs": [],
   "source": [
    "atoms = create_rp_structure('Ba','Zr','S',np.array([3]),5,5,5,2.5)\n",
    "save_structure(atoms,np.array([3]),\"Ba\",\"Zr\",\"S\")"
   ]
  },
  {
   "cell_type": "code",
   "execution_count": 79,
   "id": "cbf36908-bf18-44d0-a704-51e9034e3b7a",
   "metadata": {},
   "outputs": [
    {
     "data": {
      "text/plain": [
       "range(0, 5)"
      ]
     },
     "execution_count": 79,
     "metadata": {},
     "output_type": "execute_result"
    }
   ],
   "source": [
    "range(5)"
   ]
  },
  {
   "cell_type": "code",
   "execution_count": 76,
   "id": "287df6e0-3ccf-4b1e-8f5f-f609d43b5070",
   "metadata": {},
   "outputs": [
    {
     "name": "stdout",
     "output_type": "stream",
     "text": [
      "Atom('Ba', [2.022977511558638, 2.022977511558638, 2.407259664232843], index=0)\n",
      "[0.5  0.5  0.25]\n",
      "Atom('Zr', [0.0, 0.0, 0.0], index=1)\n",
      "[0. 0. 0.]\n",
      "Atom('S', [2.5, 2.5, 0.0], index=2)\n",
      "[0.5 0.5 0. ]\n",
      "Atom('S', [2.022977511558638, -0.477022488441362, 2.407259664232843], index=3)\n",
      "[0.5  0.   0.25]\n",
      "Atom('S', [-0.477022488441362, 2.022977511558638, 2.407259664232843], index=4)\n",
      "[0.   0.5  0.25]\n",
      "Atom('Ba', [-2.747247372854982, -2.747247372854982, 26.479856306561274], index=5)\n",
      "[0.5  0.5  2.75]\n",
      "Atom('Zr', [-4.77022488441362, -4.77022488441362, 24.07259664232843], index=6)\n",
      "[0.  0.  2.5]\n",
      "Atom('S', [-2.2702248844136204, -2.2702248844136204, 24.07259664232843], index=7)\n",
      "[0.5 0.5 2.5]\n",
      "Atom('S', [-2.747247372854982, -5.247247372854982, 26.479856306561274], index=8)\n",
      "[0.5  0.   2.75]\n",
      "Atom('S', [-5.247247372854982, -2.747247372854982, 26.479856306561274], index=9)\n",
      "[0.   0.5  2.75]\n",
      "Atom('Ba', [-7.1553373266204305, -7.1553373266204305, 36.108894963492645], index=10)\n",
      "[-1.77635684e-16 -1.77635684e-16  3.75000000e+00]\n",
      "Atom('S', [-4.6553373266204305, -4.6553373266204305, 36.108894963492645], index=11)\n",
      "[0.5  0.5  3.75]\n"
     ]
    }
   ],
   "source": [
    "for atom in atoms:\n",
    "    print(atom)\n",
    "    print(atom.scaled_position)"
   ]
  },
  {
   "cell_type": "code",
   "execution_count": 45,
   "id": "2dd153d0-d26c-4f07-92d4-960f06e0cbb9",
   "metadata": {},
   "outputs": [
    {
     "ename": "NameError",
     "evalue": "name 'a' is not defined",
     "output_type": "error",
     "traceback": [
      "\u001b[0;31m---------------------------------------------------------------------------\u001b[0m",
      "\u001b[0;31mNameError\u001b[0m                                 Traceback (most recent call last)",
      "Cell \u001b[0;32mIn[45], line 1\u001b[0m\n\u001b[0;32m----> 1\u001b[0m atoms\u001b[38;5;241m.\u001b[39mcell \u001b[38;5;241m=\u001b[39m ase\u001b[38;5;241m.\u001b[39mAtoms\u001b[38;5;241m.\u001b[39mcell([\u001b[43ma\u001b[49m,b,total_length,\u001b[38;5;241m101\u001b[39m,\u001b[38;5;241m101\u001b[39m,\u001b[38;5;241m90\u001b[39m],pbc\u001b[38;5;241m=\u001b[39m[\u001b[38;5;28;01mTrue\u001b[39;00m,\u001b[38;5;28;01mTrue\u001b[39;00m,\u001b[38;5;28;01mTrue\u001b[39;00m])\n",
      "\u001b[0;31mNameError\u001b[0m: name 'a' is not defined"
     ]
    }
   ],
   "source": [
    "atoms.cell = ase.Atoms.cell([5,5,11,101,101,90],pbc=[True,True,True])"
   ]
  },
  {
   "cell_type": "code",
   "execution_count": 4,
   "id": "80ce9478",
   "metadata": {},
   "outputs": [],
   "source": [
    "t = get_chemical_formula(\"Ba\",\"Zr\",\"S\",np.array([2,1]))"
   ]
  },
  {
   "cell_type": "code",
   "execution_count": 38,
   "id": "66c81d17",
   "metadata": {},
   "outputs": [],
   "source": [
    "perov = perovskite_layer(\"Ba\",\"Zr\",\"S\")\n",
    "view(perov, viewer='ngl')"
   ]
  },
  {
   "cell_type": "code",
   "execution_count": 5,
   "id": "cccbd628",
   "metadata": {},
   "outputs": [
    {
     "data": {
      "text/plain": [
       "'Ba5Zr3S11'"
      ]
     },
     "execution_count": 5,
     "metadata": {},
     "output_type": "execute_result"
    }
   ],
   "source": [
    "t"
   ]
  },
  {
   "cell_type": "code",
   "execution_count": 39,
   "id": "c42ec40c",
   "metadata": {},
   "outputs": [],
   "source": [
    "rs = rocksalt_layer(\"Ba\",\"S\")\n",
    "view(rs, viewer='ngl')"
   ]
  },
  {
   "cell_type": "code",
   "execution_count": 27,
   "id": "665504e3",
   "metadata": {},
   "outputs": [
    {
     "data": {
      "text/plain": [
       "Atoms(symbols='BaZrS3BaS', pbc=True, cell=[[5.0, 0.0, 0.0], [0.0, 5.0, 0.0], [-1.5264719630123584, -1.5264719630123584, 7.703230925545099]])"
      ]
     },
     "execution_count": 27,
     "metadata": {},
     "output_type": "execute_result"
    }
   ],
   "source": [
    "atoms\n"
   ]
  },
  {
   "cell_type": "code",
   "execution_count": 28,
   "id": "3cdfb1fd",
   "metadata": {},
   "outputs": [],
   "source": []
  },
  {
   "cell_type": "code",
   "execution_count": 8,
   "id": "02edd32f",
   "metadata": {},
   "outputs": [],
   "source": [
    "t.translate([2,0,0])"
   ]
  },
  {
   "cell_type": "code",
   "execution_count": 12,
   "id": "449cf95d-cadf-423e-ad89-f2282282a92f",
   "metadata": {},
   "outputs": [
    {
     "ename": "NameError",
     "evalue": "name 'current_c_position' is not defined",
     "output_type": "error",
     "traceback": [
      "\u001b[0;31m---------------------------------------------------------------------------\u001b[0m",
      "\u001b[0;31mNameError\u001b[0m                                 Traceback (most recent call last)",
      "Cell \u001b[0;32mIn[12], line 1\u001b[0m\n\u001b[0;32m----> 1\u001b[0m perovskite_layer_shifted \u001b[38;5;241m=\u001b[39m perovskite_layer(\u001b[38;5;124m'\u001b[39m\u001b[38;5;124mBa\u001b[39m\u001b[38;5;124m'\u001b[39m,\u001b[38;5;124m'\u001b[39m\u001b[38;5;124mZr\u001b[39m\u001b[38;5;124m'\u001b[39m,\u001b[38;5;124m'\u001b[39m\u001b[38;5;124mS\u001b[39m\u001b[38;5;124m'\u001b[39m)\u001b[38;5;241m.\u001b[39mtranslate([\u001b[38;5;241m0\u001b[39m,\u001b[38;5;241m0\u001b[39m,\u001b[43mcurrent_c_position\u001b[49m])\n",
      "\u001b[0;31mNameError\u001b[0m: name 'current_c_position' is not defined"
     ]
    }
   ],
   "source": [
    "perovskite_layer_shifted = perovskite_layer('Ba','Zr','S').translate([0,0,current_c_position])"
   ]
  },
  {
   "cell_type": "code",
   "execution_count": null,
   "id": "d352795e-06d2-4722-899a-de2431f807f6",
   "metadata": {},
   "outputs": [],
   "source": []
  }
 ],
 "metadata": {
  "kernelspec": {
   "display_name": "Python 3 (ipykernel)",
   "language": "python",
   "name": "python3"
  },
  "language_info": {
   "codemirror_mode": {
    "name": "ipython",
    "version": 3
   },
   "file_extension": ".py",
   "mimetype": "text/x-python",
   "name": "python",
   "nbconvert_exporter": "python",
   "pygments_lexer": "ipython3",
   "version": "3.12.1"
  }
 },
 "nbformat": 4,
 "nbformat_minor": 5
}
